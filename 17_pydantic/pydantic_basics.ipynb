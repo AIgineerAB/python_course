{
 "cells": [
  {
   "cell_type": "markdown",
   "id": "be60e758",
   "metadata": {},
   "source": [
    "\n",
    "<div style=\"max-width:66ch;\">\n",
    "\n",
    "# Lecture notes - Pydantic to work with data in an OOP manner\n",
    "\n",
    "This is the lecture note for **pydantic** - but it's built upon contents from previous lectures such as: \n",
    "- input-output\n",
    "- variables\n",
    "- if-statement\n",
    "- for loop\n",
    "- while \n",
    "- lists\n",
    "- random\n",
    "- strings\n",
    "- functions\n",
    "- error handling\n",
    "- file handling\n",
    "- dictionary\n",
    "- OOP\n",
    "\n",
    "<p class = \"alert alert-info\" role=\"alert\"><b>Note</b> that this lecture note gives a brief introduction to pydantic. I encourage you to read further about pydantic.\n",
    "\n",
    "</div>"
   ]
  },
  {
   "cell_type": "code",
   "execution_count": 56,
   "id": "934ce06e",
   "metadata": {},
   "outputs": [
    {
     "data": {
      "text/plain": [
       "dict_keys(['count', 'next', 'previous', 'results'])"
      ]
     },
     "execution_count": 56,
     "metadata": {},
     "output_type": "execute_result"
    }
   ],
   "source": [
    "import requests\n",
    "\n",
    "data = requests.get(\"https://pokeapi.co/api/v2/pokemon?limit=20\").json()\n",
    "data.keys()"
   ]
  },
  {
   "cell_type": "markdown",
   "id": "f89eff90",
   "metadata": {},
   "source": [
    "Pydantic is used for data validation so you can work with data in an OOP manner. Pydantic has \n",
    "- type hints for schema validation\n",
    "- can serialize pydantic model into json \n",
    "- can deserialize json string into pydantic model"
   ]
  },
  {
   "cell_type": "code",
   "execution_count": 48,
   "id": "15e1f68c",
   "metadata": {},
   "outputs": [
    {
     "data": {
      "text/plain": [
       "1302"
      ]
     },
     "execution_count": 48,
     "metadata": {},
     "output_type": "execute_result"
    }
   ],
   "source": [
    "data[\"count\"]"
   ]
  },
  {
   "cell_type": "code",
   "execution_count": 49,
   "id": "d6872645",
   "metadata": {},
   "outputs": [
    {
     "data": {
      "text/plain": [
       "[{'name': 'bulbasaur', 'url': 'https://pokeapi.co/api/v2/pokemon/1/'},\n",
       " {'name': 'ivysaur', 'url': 'https://pokeapi.co/api/v2/pokemon/2/'},\n",
       " {'name': 'venusaur', 'url': 'https://pokeapi.co/api/v2/pokemon/3/'},\n",
       " {'name': 'charmander', 'url': 'https://pokeapi.co/api/v2/pokemon/4/'},\n",
       " {'name': 'charmeleon', 'url': 'https://pokeapi.co/api/v2/pokemon/5/'}]"
      ]
     },
     "execution_count": 49,
     "metadata": {},
     "output_type": "execute_result"
    }
   ],
   "source": [
    "data['results'][:5]"
   ]
  },
  {
   "cell_type": "markdown",
   "id": "6fdee893",
   "metadata": {},
   "source": [
    "## pydantic advantages\n",
    "\n",
    "- type safety and autocompletion - data has defined types\n",
    "- input validation, so if the API changes or returns invalid data Pydantic will raise an error. \n",
    "- models become self documenting with expected structure of data \n",
    "- easier to test a class than json object\n",
    "- can work with data in an OOP manner"
   ]
  },
  {
   "cell_type": "markdown",
   "id": "4e8e93d1",
   "metadata": {},
   "source": [
    "<div style=\"max-width: 66ch;\">\n",
    "\n",
    "## deserialize\n",
    "\n",
    "we define a pydantic object by inheriting the BaseModel from pydantic and create fields which are attributes defined with type hinting. The fields have built in type validation to make sure the data follows specific schema. \n",
    "- we take a json object from an API and then deserialize it to become a Python object \n",
    "\n",
    "</div>\n"
   ]
  },
  {
   "cell_type": "code",
   "execution_count": 57,
   "id": "29e15001",
   "metadata": {},
   "outputs": [
    {
     "data": {
      "text/plain": [
       "PokemonListResponse(results=[{'name': 'bulbasaur', 'url': 'https://pokeapi.co/api/v2/pokemon/1/'}, {'name': 'ivysaur', 'url': 'https://pokeapi.co/api/v2/pokemon/2/'}, {'name': 'venusaur', 'url': 'https://pokeapi.co/api/v2/pokemon/3/'}, {'name': 'charmander', 'url': 'https://pokeapi.co/api/v2/pokemon/4/'}, {'name': 'charmeleon', 'url': 'https://pokeapi.co/api/v2/pokemon/5/'}, {'name': 'charizard', 'url': 'https://pokeapi.co/api/v2/pokemon/6/'}, {'name': 'squirtle', 'url': 'https://pokeapi.co/api/v2/pokemon/7/'}, {'name': 'wartortle', 'url': 'https://pokeapi.co/api/v2/pokemon/8/'}, {'name': 'blastoise', 'url': 'https://pokeapi.co/api/v2/pokemon/9/'}, {'name': 'caterpie', 'url': 'https://pokeapi.co/api/v2/pokemon/10/'}, {'name': 'metapod', 'url': 'https://pokeapi.co/api/v2/pokemon/11/'}, {'name': 'butterfree', 'url': 'https://pokeapi.co/api/v2/pokemon/12/'}, {'name': 'weedle', 'url': 'https://pokeapi.co/api/v2/pokemon/13/'}, {'name': 'kakuna', 'url': 'https://pokeapi.co/api/v2/pokemon/14/'}, {'name': 'beedrill', 'url': 'https://pokeapi.co/api/v2/pokemon/15/'}, {'name': 'pidgey', 'url': 'https://pokeapi.co/api/v2/pokemon/16/'}, {'name': 'pidgeotto', 'url': 'https://pokeapi.co/api/v2/pokemon/17/'}, {'name': 'pidgeot', 'url': 'https://pokeapi.co/api/v2/pokemon/18/'}, {'name': 'rattata', 'url': 'https://pokeapi.co/api/v2/pokemon/19/'}, {'name': 'raticate', 'url': 'https://pokeapi.co/api/v2/pokemon/20/'}], count=1302)"
      ]
     },
     "execution_count": 57,
     "metadata": {},
     "output_type": "execute_result"
    }
   ],
   "source": [
    "from pydantic import BaseModel\n",
    "\n",
    "class PokemonListResponse(BaseModel):\n",
    "    results: list[dict]\n",
    "    count: int\n",
    "\n",
    "pokemons = PokemonListResponse.model_validate(data)\n",
    "pokemons"
   ]
  },
  {
   "cell_type": "code",
   "execution_count": 42,
   "id": "b68ace2c",
   "metadata": {},
   "outputs": [
    {
     "data": {
      "text/plain": [
       "1302"
      ]
     },
     "execution_count": 42,
     "metadata": {},
     "output_type": "execute_result"
    }
   ],
   "source": [
    "pokemons.count"
   ]
  },
  {
   "cell_type": "code",
   "execution_count": 43,
   "id": "b0975cd8",
   "metadata": {},
   "outputs": [
    {
     "data": {
      "text/plain": [
       "[{'name': 'bulbasaur', 'url': 'https://pokeapi.co/api/v2/pokemon/1/'},\n",
       " {'name': 'ivysaur', 'url': 'https://pokeapi.co/api/v2/pokemon/2/'},\n",
       " {'name': 'venusaur', 'url': 'https://pokeapi.co/api/v2/pokemon/3/'},\n",
       " {'name': 'charmander', 'url': 'https://pokeapi.co/api/v2/pokemon/4/'},\n",
       " {'name': 'charmeleon', 'url': 'https://pokeapi.co/api/v2/pokemon/5/'}]"
      ]
     },
     "execution_count": 43,
     "metadata": {},
     "output_type": "execute_result"
    }
   ],
   "source": [
    "pokemons.results[:5]"
   ]
  },
  {
   "cell_type": "code",
   "execution_count": 39,
   "id": "7680446c",
   "metadata": {},
   "outputs": [
    {
     "data": {
      "text/plain": [
       "20"
      ]
     },
     "execution_count": 39,
     "metadata": {},
     "output_type": "execute_result"
    }
   ],
   "source": [
    "len(pokemons.results)"
   ]
  },
  {
   "cell_type": "markdown",
   "id": "5722be3e",
   "metadata": {},
   "source": [
    "## if we get wrong type or wrong data comes in or API changes"
   ]
  },
  {
   "cell_type": "code",
   "execution_count": 89,
   "id": "2e196abf",
   "metadata": {},
   "outputs": [
    {
     "name": "stdout",
     "output_type": "stream",
     "text": [
      "2 validation errors for PokemonListResponse\n",
      "results\n",
      "  Field required [type=missing, input_value={'base_happiness': 70, 'c...i/v2/pokemon/10199/'}}]}, input_type=dict]\n",
      "    For further information visit https://errors.pydantic.dev/2.11/v/missing\n",
      "count\n",
      "  Field required [type=missing, input_value={'base_happiness': 70, 'c...i/v2/pokemon/10199/'}}]}, input_type=dict]\n",
      "    For further information visit https://errors.pydantic.dev/2.11/v/missing\n"
     ]
    }
   ],
   "source": [
    "from pydantic import ValidationError\n",
    "\n",
    "class PokemonListResponse(BaseModel):\n",
    "    results: list[dict]\n",
    "    count: str\n",
    "\n",
    "try:\n",
    "    pokemons = PokemonListResponse.model_validate(data)\n",
    "except ValidationError as e:\n",
    "    print(e)\n"
   ]
  },
  {
   "cell_type": "markdown",
   "id": "198350d0",
   "metadata": {},
   "source": [
    "## another example\n",
    "\n",
    "choose the types of attributes you want instead of picking all"
   ]
  },
  {
   "cell_type": "code",
   "execution_count": 76,
   "id": "2c0cfe50",
   "metadata": {},
   "outputs": [
    {
     "data": {
      "text/plain": [
       "dict_keys(['base_happiness', 'capture_rate', 'color', 'egg_groups', 'evolution_chain', 'evolves_from_species', 'flavor_text_entries', 'form_descriptions', 'forms_switchable', 'gender_rate', 'genera', 'generation', 'growth_rate', 'habitat', 'has_gender_differences', 'hatch_counter', 'id', 'is_baby', 'is_legendary', 'is_mythical', 'name', 'names', 'order', 'pal_park_encounters', 'pokedex_numbers', 'shape', 'varieties'])"
      ]
     },
     "execution_count": 76,
     "metadata": {},
     "output_type": "execute_result"
    }
   ],
   "source": [
    "data = requests.get(\"https://pokeapi.co/api/v2/pokemon-species/pikachu\").json()\n",
    "\n",
    "data.keys()"
   ]
  },
  {
   "cell_type": "code",
   "execution_count": 83,
   "id": "507259a6",
   "metadata": {},
   "outputs": [
    {
     "name": "stdout",
     "output_type": "stream",
     "text": [
      "base_happiness                 <class 'int'>\n",
      "capture_rate                   <class 'int'>\n",
      "color                          <class 'dict'>\n",
      "egg_groups                     <class 'list'>\n",
      "evolution_chain                <class 'dict'>\n",
      "evolves_from_species           <class 'dict'>\n",
      "flavor_text_entries            <class 'list'>\n",
      "form_descriptions              <class 'list'>\n",
      "forms_switchable               <class 'bool'>\n",
      "gender_rate                    <class 'int'>\n",
      "genera                         <class 'list'>\n",
      "generation                     <class 'dict'>\n",
      "growth_rate                    <class 'dict'>\n",
      "habitat                        <class 'dict'>\n",
      "has_gender_differences         <class 'bool'>\n",
      "hatch_counter                  <class 'int'>\n",
      "id                             <class 'int'>\n",
      "is_baby                        <class 'bool'>\n",
      "is_legendary                   <class 'bool'>\n",
      "is_mythical                    <class 'bool'>\n",
      "name                           <class 'str'>\n",
      "names                          <class 'list'>\n",
      "order                          <class 'int'>\n",
      "pal_park_encounters            <class 'list'>\n",
      "pokedex_numbers                <class 'list'>\n",
      "shape                          <class 'dict'>\n",
      "varieties                      <class 'list'>\n"
     ]
    }
   ],
   "source": [
    "for key, values in data.items():\n",
    "    print(f\"{key:<30} {type(values)}\")"
   ]
  },
  {
   "cell_type": "code",
   "execution_count": 91,
   "id": "21349045",
   "metadata": {},
   "outputs": [
    {
     "data": {
      "text/plain": [
       "Pokemon(id=25, name='pikachu', base_happiness=70, capture_rate=190, evolution_chain={'url': 'https://pokeapi.co/api/v2/evolution-chain/10/'}, gender_rate=4, generation={'name': 'generation-i', 'url': 'https://pokeapi.co/api/v2/generation/1/'})"
      ]
     },
     "execution_count": 91,
     "metadata": {},
     "output_type": "execute_result"
    }
   ],
   "source": [
    "class Pokemon(BaseModel):\n",
    "    id: int\n",
    "    name: str\n",
    "    base_happiness: int\n",
    "    capture_rate: int\n",
    "    evolution_chain: dict\n",
    "    gender_rate: int\n",
    "    generation: dict\n",
    "\n",
    "\n",
    "pikachu = Pokemon.model_validate(data)\n",
    "pikachu"
   ]
  },
  {
   "cell_type": "code",
   "execution_count": 72,
   "id": "afc4f48b",
   "metadata": {},
   "outputs": [
    {
     "data": {
      "text/plain": [
       "[{'ability': {'name': 'static', 'url': 'https://pokeapi.co/api/v2/ability/9/'},\n",
       "  'is_hidden': False,\n",
       "  'slot': 1},\n",
       " {'ability': {'name': 'lightning-rod',\n",
       "   'url': 'https://pokeapi.co/api/v2/ability/31/'},\n",
       "  'is_hidden': True,\n",
       "  'slot': 3}]"
      ]
     },
     "execution_count": 72,
     "metadata": {},
     "output_type": "execute_result"
    }
   ],
   "source": [
    "pikachu.abilities"
   ]
  },
  {
   "cell_type": "markdown",
   "id": "0bfb8aef",
   "metadata": {},
   "source": [
    "<div style = \"max-width: 66ch;\">\n",
    "\n",
    "## serialize\n",
    "\n",
    "After working with an object and perhaps transforming it, you can serialize it back to a json object. This is particularly important in fastAPI where data is sent as serialized json objects, which is a json formatted string. \n",
    "\n",
    "</div>"
   ]
  },
  {
   "cell_type": "code",
   "execution_count": 96,
   "id": "b3dcde7a",
   "metadata": {},
   "outputs": [
    {
     "data": {
      "text/plain": [
       "'{\"id\":25,\"name\":\"pikachu\",\"base_happiness\":70,\"capture_rate\":190,\"evolution_chain\":{\"url\":\"https://pokeapi.co/api/v2/evolution-chain/10/\"},\"gender_rate\":4,\"generation\":{\"name\":\"generation-i\",\"url\":\"https://pokeapi.co/api/v2/generation/1/\"}}'"
      ]
     },
     "execution_count": 96,
     "metadata": {},
     "output_type": "execute_result"
    }
   ],
   "source": [
    "serialized_pikachu = pikachu.model_dump_json()\n",
    "serialized_pikachu\n",
    "\n"
   ]
  },
  {
   "cell_type": "code",
   "execution_count": 97,
   "id": "e09a1aaf",
   "metadata": {},
   "outputs": [
    {
     "data": {
      "text/plain": [
       "str"
      ]
     },
     "execution_count": 97,
     "metadata": {},
     "output_type": "execute_result"
    }
   ],
   "source": [
    "type(serialized_pikachu)"
   ]
  },
  {
   "cell_type": "code",
   "execution_count": 98,
   "id": "7cc25281",
   "metadata": {},
   "outputs": [
    {
     "name": "stdout",
     "output_type": "stream",
     "text": [
      "{\n",
      "   \"id\": 25,\n",
      "   \"name\": \"pikachu\",\n",
      "   \"base_happiness\": 70,\n",
      "   \"capture_rate\": 190,\n",
      "   \"evolution_chain\": {\n",
      "      \"url\": \"https://pokeapi.co/api/v2/evolution-chain/10/\"\n",
      "   },\n",
      "   \"gender_rate\": 4,\n",
      "   \"generation\": {\n",
      "      \"name\": \"generation-i\",\n",
      "      \"url\": \"https://pokeapi.co/api/v2/generation/1/\"\n",
      "   }\n",
      "}\n"
     ]
    }
   ],
   "source": [
    "print(pikachu.model_dump_json(indent=3))"
   ]
  },
  {
   "cell_type": "markdown",
   "id": "f00f9260",
   "metadata": {},
   "source": [
    "<div style=\"background-color: #FFF; color: #212121; border-radius: 1px; width:22ch; box-shadow: rgba(0, 0, 0, 0.16) 0px 1px 4px; display: flex; justify-content: center; align-items: center;\">\n",
    "<div style=\"padding: 1.5em 0; width: 70%;\">\n",
    "    <h2 style=\"font-size: 1.2rem;\">Kokchun Giang</h2>\n",
    "    <a href=\"https://www.linkedin.com/in/kokchungiang/\" target=\"_blank\" style=\"display: flex; align-items: center; gap: .4em; color:#0A66C2;\">\n",
    "        <img src=\"https://content.linkedin.com/content/dam/me/business/en-us/amp/brand-site/v2/bg/LI-Bug.svg.original.svg\" width=\"20\"> \n",
    "        LinkedIn profile\n",
    "    </a>\n",
    "    <a href=\"https://github.com/kokchun/Portfolio-Kokchun-Giang\" target=\"_blank\" style=\"display: flex; align-items: center; gap: .4em; margin: 1em 0; color:#0A66C2;\">\n",
    "        <img src=\"https://github.githubassets.com/images/modules/logos_page/GitHub-Mark.png\" width=\"20\"> \n",
    "        Github portfolio\n",
    "    </a>\n",
    "    <span>AIgineer AB</span>\n",
    "<div>\n",
    "</div>\n"
   ]
  }
 ],
 "metadata": {
  "kernelspec": {
   "display_name": "python_course",
   "language": "python",
   "name": "python3"
  },
  "language_info": {
   "codemirror_mode": {
    "name": "ipython",
    "version": 3
   },
   "file_extension": ".py",
   "mimetype": "text/x-python",
   "name": "python",
   "nbconvert_exporter": "python",
   "pygments_lexer": "ipython3",
   "version": "3.11.8"
  }
 },
 "nbformat": 4,
 "nbformat_minor": 5
}
